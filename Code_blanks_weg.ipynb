{
 "cells": [
  {
   "cell_type": "code",
   "execution_count": 2,
   "metadata": {},
   "outputs": [],
   "source": [
    "import csv\n",
    "\n",
    "def clean_csv(input_file_path, output_file_path, delimiter=';'):\n",
    "    with open(input_file_path, mode='r', newline='', encoding='utf-8') as file:\n",
    "        reader = csv.reader(file, delimiter=delimiter)\n",
    "        # Filter out rows that are all empty or contain only semicolons (i.e., no data)\n",
    "        cleaned_rows = [row for row in reader if any(field.strip() for field in row)]\n",
    "\n",
    "    with open(output_file_path, mode='w', newline='', encoding='utf-8') as file:\n",
    "        writer = csv.writer(file, delimiter=delimiter)\n",
    "        writer.writerows(cleaned_rows)\n",
    "\n",
    "# Example usage:\n",
    "input_csv_path = 'cantons_enriched_immoscout24.csv'  # Update this to your input file path\n",
    "output_csv_path = 'cantons_enriched_no_blanks_immoscout24.csv'  # Update this to your desired output file path\n",
    "clean_csv(input_csv_path, output_csv_path)\n"
   ]
  }
 ],
 "metadata": {
  "kernelspec": {
   "display_name": "adsenv",
   "language": "python",
   "name": "python3"
  },
  "language_info": {
   "codemirror_mode": {
    "name": "ipython",
    "version": 3
   },
   "file_extension": ".py",
   "mimetype": "text/x-python",
   "name": "python",
   "nbconvert_exporter": "python",
   "pygments_lexer": "ipython3",
   "version": "3.11.8"
  }
 },
 "nbformat": 4,
 "nbformat_minor": 2
}
