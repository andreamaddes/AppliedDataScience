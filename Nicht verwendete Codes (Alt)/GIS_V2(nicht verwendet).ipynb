{
 "cells": [
  {
   "attachments": {},
   "cell_type": "markdown",
   "id": "94f45734",
   "metadata": {},
   "source": [
    "# Geocoding addresses using the geoadmin API and Python"
   ]
  },
  {
   "attachments": {},
   "cell_type": "markdown",
   "id": "d5734cf1",
   "metadata": {},
   "source": [
    "## Libraries and settings"
   ]
  },
  {
   "cell_type": "code",
   "execution_count": 49,
   "id": "f6e940aa",
   "metadata": {},
   "outputs": [],
   "source": [
    "# Libraries\n",
    "import os\n",
    "import requests\n",
    "import json\n",
    "import urllib\n",
    "import fnmatch\n",
    "import folium\n",
    "import platform\n",
    "import pandas as pd\n",
    "import geopandas as gpd\n",
    "from IPython.display import clear_output\n",
    "from folium.features import GeoJson\n",
    "\n",
    "# Ignore warnings\n",
    "import warnings\n",
    "warnings.filterwarnings('ignore')"
   ]
  },
  {
   "cell_type": "markdown",
   "id": "5621781c",
   "metadata": {},
   "source": [
    "## Load the CSV file"
   ]
  },
  {
   "cell_type": "code",
   "execution_count": 50,
   "id": "d65e1591",
   "metadata": {},
   "outputs": [],
   "source": [
    "df = pd.read_csv('/Users/erxhanganiu/ADSProjekt/AppliedDataScience/Backups/immoscout24.csv', delimiter=';')"
   ]
  },
  {
   "cell_type": "markdown",
   "id": "4dd6027f",
   "metadata": {},
   "source": [
    "# Define base url for geocoding"
   ]
  },
  {
   "cell_type": "code",
   "execution_count": 51,
   "id": "0d710421",
   "metadata": {},
   "outputs": [],
   "source": [
    "base_url = \"https://api3.geo.admin.ch/rest/services/api/SearchServer?\""
   ]
  },
  {
   "cell_type": "markdown",
   "id": "1509de0e",
   "metadata": {},
   "source": [
    "# Geocode list of addresses"
   ]
  },
  {
   "attachments": {},
   "cell_type": "markdown",
   "id": "c644f1e1",
   "metadata": {},
   "source": [
    "### Geocoding addresses using the geoadmin API"
   ]
  },
  {
   "cell_type": "code",
   "execution_count": 57,
   "id": "07ba71cd",
   "metadata": {},
   "outputs": [
    {
     "ename": "KeyError",
     "evalue": "'address_raw'",
     "output_type": "error",
     "traceback": [
      "\u001b[0;31m---------------------------------------------------------------------------\u001b[0m",
      "\u001b[0;31mKeyError\u001b[0m                                  Traceback (most recent call last)",
      "File \u001b[0;32m~/anaconda3/envs/adsenv/lib/python3.11/site-packages/pandas/core/indexes/base.py:3802\u001b[0m, in \u001b[0;36mIndex.get_loc\u001b[0;34m(self, key)\u001b[0m\n\u001b[1;32m   3801\u001b[0m \u001b[38;5;28;01mtry\u001b[39;00m:\n\u001b[0;32m-> 3802\u001b[0m     \u001b[38;5;28;01mreturn\u001b[39;00m \u001b[38;5;28;43mself\u001b[39;49m\u001b[38;5;241;43m.\u001b[39;49m\u001b[43m_engine\u001b[49m\u001b[38;5;241;43m.\u001b[39;49m\u001b[43mget_loc\u001b[49m\u001b[43m(\u001b[49m\u001b[43mcasted_key\u001b[49m\u001b[43m)\u001b[49m\n\u001b[1;32m   3803\u001b[0m \u001b[38;5;28;01mexcept\u001b[39;00m \u001b[38;5;167;01mKeyError\u001b[39;00m \u001b[38;5;28;01mas\u001b[39;00m err:\n",
      "File \u001b[0;32mindex.pyx:153\u001b[0m, in \u001b[0;36mpandas._libs.index.IndexEngine.get_loc\u001b[0;34m()\u001b[0m\n",
      "File \u001b[0;32mindex.pyx:182\u001b[0m, in \u001b[0;36mpandas._libs.index.IndexEngine.get_loc\u001b[0;34m()\u001b[0m\n",
      "File \u001b[0;32mpandas/_libs/hashtable_class_helper.pxi:7081\u001b[0m, in \u001b[0;36mpandas._libs.hashtable.PyObjectHashTable.get_item\u001b[0;34m()\u001b[0m\n",
      "File \u001b[0;32mpandas/_libs/hashtable_class_helper.pxi:7089\u001b[0m, in \u001b[0;36mpandas._libs.hashtable.PyObjectHashTable.get_item\u001b[0;34m()\u001b[0m\n",
      "\u001b[0;31mKeyError\u001b[0m: 'address_raw'",
      "\nThe above exception was the direct cause of the following exception:\n",
      "\u001b[0;31mKeyError\u001b[0m                                  Traceback (most recent call last)",
      "Cell \u001b[0;32mIn[57], line 33\u001b[0m\n\u001b[1;32m     28\u001b[0m         \u001b[38;5;28mprint\u001b[39m(\u001b[38;5;124m\"\u001b[39m\u001b[38;5;124mError geocoding:\u001b[39m\u001b[38;5;124m\"\u001b[39m, e)\n\u001b[1;32m     30\u001b[0m \u001b[38;5;66;03m# Write lat and lon to df\u001b[39;00m\n\u001b[1;32m     31\u001b[0m df_loc \u001b[38;5;241m=\u001b[39m pd\u001b[38;5;241m.\u001b[39mDataFrame(geolocation, \n\u001b[1;32m     32\u001b[0m                       columns\u001b[38;5;241m=\u001b[39m(\u001b[38;5;124m\"\u001b[39m\u001b[38;5;124mlat\u001b[39m\u001b[38;5;124m\"\u001b[39m, \u001b[38;5;124m\"\u001b[39m\u001b[38;5;124mlon\u001b[39m\u001b[38;5;124m\"\u001b[39m), \n\u001b[0;32m---> 33\u001b[0m                       index\u001b[38;5;241m=\u001b[39m\u001b[38;5;28mrange\u001b[39m(\u001b[38;5;28mlen\u001b[39m(\u001b[43mdf\u001b[49m\u001b[43m[\u001b[49m\u001b[38;5;124;43m'\u001b[39;49m\u001b[38;5;124;43maddress_raw\u001b[39;49m\u001b[38;5;124;43m'\u001b[39;49m\u001b[43m]\u001b[49m)))\n\u001b[1;32m     34\u001b[0m df[\u001b[38;5;124m'\u001b[39m\u001b[38;5;124mlat\u001b[39m\u001b[38;5;124m'\u001b[39m] \u001b[38;5;241m=\u001b[39m df_loc[\u001b[38;5;124m'\u001b[39m\u001b[38;5;124mlat\u001b[39m\u001b[38;5;124m'\u001b[39m]\n\u001b[1;32m     35\u001b[0m df[\u001b[38;5;124m'\u001b[39m\u001b[38;5;124mlon\u001b[39m\u001b[38;5;124m'\u001b[39m] \u001b[38;5;241m=\u001b[39m df_loc[\u001b[38;5;124m'\u001b[39m\u001b[38;5;124mlon\u001b[39m\u001b[38;5;124m'\u001b[39m]\n",
      "File \u001b[0;32m~/anaconda3/envs/adsenv/lib/python3.11/site-packages/pandas/core/frame.py:4090\u001b[0m, in \u001b[0;36mDataFrame.__getitem__\u001b[0;34m(self, key)\u001b[0m\n\u001b[1;32m   4088\u001b[0m \u001b[38;5;28;01mif\u001b[39;00m \u001b[38;5;28mself\u001b[39m\u001b[38;5;241m.\u001b[39mcolumns\u001b[38;5;241m.\u001b[39mnlevels \u001b[38;5;241m>\u001b[39m \u001b[38;5;241m1\u001b[39m:\n\u001b[1;32m   4089\u001b[0m     \u001b[38;5;28;01mreturn\u001b[39;00m \u001b[38;5;28mself\u001b[39m\u001b[38;5;241m.\u001b[39m_getitem_multilevel(key)\n\u001b[0;32m-> 4090\u001b[0m indexer \u001b[38;5;241m=\u001b[39m \u001b[38;5;28;43mself\u001b[39;49m\u001b[38;5;241;43m.\u001b[39;49m\u001b[43mcolumns\u001b[49m\u001b[38;5;241;43m.\u001b[39;49m\u001b[43mget_loc\u001b[49m\u001b[43m(\u001b[49m\u001b[43mkey\u001b[49m\u001b[43m)\u001b[49m\n\u001b[1;32m   4091\u001b[0m \u001b[38;5;28;01mif\u001b[39;00m is_integer(indexer):\n\u001b[1;32m   4092\u001b[0m     indexer \u001b[38;5;241m=\u001b[39m [indexer]\n",
      "File \u001b[0;32m~/anaconda3/envs/adsenv/lib/python3.11/site-packages/pandas/core/indexes/base.py:3809\u001b[0m, in \u001b[0;36mIndex.get_loc\u001b[0;34m(self, key)\u001b[0m\n\u001b[1;32m   3804\u001b[0m     \u001b[38;5;28;01mif\u001b[39;00m \u001b[38;5;28misinstance\u001b[39m(casted_key, \u001b[38;5;28mslice\u001b[39m) \u001b[38;5;129;01mor\u001b[39;00m (\n\u001b[1;32m   3805\u001b[0m         \u001b[38;5;28misinstance\u001b[39m(casted_key, abc\u001b[38;5;241m.\u001b[39mIterable)\n\u001b[1;32m   3806\u001b[0m         \u001b[38;5;129;01mand\u001b[39;00m \u001b[38;5;28many\u001b[39m(\u001b[38;5;28misinstance\u001b[39m(x, \u001b[38;5;28mslice\u001b[39m) \u001b[38;5;28;01mfor\u001b[39;00m x \u001b[38;5;129;01min\u001b[39;00m casted_key)\n\u001b[1;32m   3807\u001b[0m     ):\n\u001b[1;32m   3808\u001b[0m         \u001b[38;5;28;01mraise\u001b[39;00m InvalidIndexError(key)\n\u001b[0;32m-> 3809\u001b[0m     \u001b[38;5;28;01mraise\u001b[39;00m \u001b[38;5;167;01mKeyError\u001b[39;00m(key) \u001b[38;5;28;01mfrom\u001b[39;00m \u001b[38;5;21;01merr\u001b[39;00m\n\u001b[1;32m   3810\u001b[0m \u001b[38;5;28;01mexcept\u001b[39;00m \u001b[38;5;167;01mTypeError\u001b[39;00m:\n\u001b[1;32m   3811\u001b[0m     \u001b[38;5;66;03m# If we have a listlike key, _check_indexing_error will raise\u001b[39;00m\n\u001b[1;32m   3812\u001b[0m     \u001b[38;5;66;03m#  InvalidIndexError. Otherwise we fall through and re-raise\u001b[39;00m\n\u001b[1;32m   3813\u001b[0m     \u001b[38;5;66;03m#  the TypeError.\u001b[39;00m\n\u001b[1;32m   3814\u001b[0m     \u001b[38;5;28mself\u001b[39m\u001b[38;5;241m.\u001b[39m_check_indexing_error(key)\n",
      "\u001b[0;31mKeyError\u001b[0m: 'address_raw'"
     ]
    }
   ],
   "source": [
    "# Define base url\n",
    "base_url= \"https://api3.geo.admin.ch/rest/services/api/SearchServer?\"\n",
    "\n",
    "# Geocode list of adresses\n",
    "geolocation = []\n",
    "n = 1\n",
    "for i in df['Address'].astype(str):\n",
    "    print('Geocoding address', \n",
    "          n, \n",
    "          'out of', \n",
    "          len(df['Address']), \n",
    "          ':', \n",
    "          i)\n",
    "    n += 1\n",
    "    clear_output(wait=True)\n",
    "    try:\n",
    "        # Set up search parameters - address, origins, and type\n",
    "        parameters = {\n",
    "            'searchText': i,\n",
    "            'type': 'locations',\n",
    "            'origins': 'address'\n",
    "        }\n",
    "        r = requests.get(f\"{base_url}{urllib.parse.urlencode(parameters)}\")\n",
    "        data = json.loads(r.content)\n",
    "        # Extract latitude and longitude from response\n",
    "        # Add the code to extract lat, lon and store in geolocation list\n",
    "    except Exception as e:\n",
    "        print(\"Error geocoding:\", e)\n",
    "\n",
    "# Write lat and lon to df\n",
    "df_loc = pd.DataFrame(geolocation, \n",
    "                      columns=(\"lat\", \"lon\"), \n",
    "                      index=range(len(df['address_raw'])))\n",
    "df['lat'] = df_loc['lat']\n",
    "df['lon'] = df_loc['lon']\n",
    "df.head(5)"
   ]
  },
  {
   "attachments": {},
   "cell_type": "markdown",
   "id": "78c0bd6e",
   "metadata": {},
   "source": [
    "### Read polygon-map with municipalities of the canton of Zuerich"
   ]
  },
  {
   "cell_type": "code",
   "execution_count": 53,
   "id": "d3f0a510",
   "metadata": {},
   "outputs": [
    {
     "name": "stdout",
     "output_type": "stream",
     "text": [
      "<class 'geopandas.geodataframe.GeoDataFrame'>\n"
     ]
    },
    {
     "data": {
      "text/html": [
       "<div>\n",
       "<style scoped>\n",
       "    .dataframe tbody tr th:only-of-type {\n",
       "        vertical-align: middle;\n",
       "    }\n",
       "\n",
       "    .dataframe tbody tr th {\n",
       "        vertical-align: top;\n",
       "    }\n",
       "\n",
       "    .dataframe thead th {\n",
       "        text-align: right;\n",
       "    }\n",
       "</style>\n",
       "<table border=\"1\" class=\"dataframe\">\n",
       "  <thead>\n",
       "    <tr style=\"text-align: right;\">\n",
       "      <th></th>\n",
       "      <th>GID_3</th>\n",
       "      <th>GID_0</th>\n",
       "      <th>COUNTRY</th>\n",
       "      <th>GID_1</th>\n",
       "      <th>NAME_1</th>\n",
       "      <th>NL_NAME_1</th>\n",
       "      <th>GID_2</th>\n",
       "      <th>NAME_2</th>\n",
       "      <th>NL_NAME_2</th>\n",
       "      <th>NAME_3</th>\n",
       "      <th>VARNAME_3</th>\n",
       "      <th>NL_NAME_3</th>\n",
       "      <th>TYPE_3</th>\n",
       "      <th>ENGTYPE_3</th>\n",
       "      <th>CC_3</th>\n",
       "      <th>HASC_3</th>\n",
       "      <th>geometry</th>\n",
       "    </tr>\n",
       "  </thead>\n",
       "  <tbody>\n",
       "    <tr>\n",
       "      <th>0</th>\n",
       "      <td>CHE.1.1.1_1</td>\n",
       "      <td>CHE</td>\n",
       "      <td>Switzerland</td>\n",
       "      <td>CHE.1_1</td>\n",
       "      <td>Aargau</td>\n",
       "      <td>NA</td>\n",
       "      <td>CHE.1.1_1</td>\n",
       "      <td>Aarau</td>\n",
       "      <td>NA</td>\n",
       "      <td>Aarau</td>\n",
       "      <td>NA</td>\n",
       "      <td>NA</td>\n",
       "      <td>Commune</td>\n",
       "      <td>Municipality</td>\n",
       "      <td>NA</td>\n",
       "      <td>NA</td>\n",
       "      <td>MULTIPOLYGON (((8.07110 47.40240, 8.06550 47.3...</td>\n",
       "    </tr>\n",
       "    <tr>\n",
       "      <th>1</th>\n",
       "      <td>CHE.1.1.2_1</td>\n",
       "      <td>CHE</td>\n",
       "      <td>Switzerland</td>\n",
       "      <td>CHE.1_1</td>\n",
       "      <td>Aargau</td>\n",
       "      <td>NA</td>\n",
       "      <td>CHE.1.1_1</td>\n",
       "      <td>Aarau</td>\n",
       "      <td>NA</td>\n",
       "      <td>Biberstein</td>\n",
       "      <td>NA</td>\n",
       "      <td>NA</td>\n",
       "      <td>Commune</td>\n",
       "      <td>Municipality</td>\n",
       "      <td>NA</td>\n",
       "      <td>NA</td>\n",
       "      <td>MULTIPOLYGON (((8.06960 47.41470, 8.06720 47.4...</td>\n",
       "    </tr>\n",
       "    <tr>\n",
       "      <th>2</th>\n",
       "      <td>CHE.1.1.3_1</td>\n",
       "      <td>CHE</td>\n",
       "      <td>Switzerland</td>\n",
       "      <td>CHE.1_1</td>\n",
       "      <td>Aargau</td>\n",
       "      <td>NA</td>\n",
       "      <td>CHE.1.1_1</td>\n",
       "      <td>Aarau</td>\n",
       "      <td>NA</td>\n",
       "      <td>Buchs</td>\n",
       "      <td>NA</td>\n",
       "      <td>NA</td>\n",
       "      <td>Commune</td>\n",
       "      <td>Municipality</td>\n",
       "      <td>NA</td>\n",
       "      <td>NA</td>\n",
       "      <td>MULTIPOLYGON (((8.06320 47.39300, 8.06520 47.3...</td>\n",
       "    </tr>\n",
       "    <tr>\n",
       "      <th>3</th>\n",
       "      <td>CHE.1.1.4_1</td>\n",
       "      <td>CHE</td>\n",
       "      <td>Switzerland</td>\n",
       "      <td>CHE.1_1</td>\n",
       "      <td>Aargau</td>\n",
       "      <td>NA</td>\n",
       "      <td>CHE.1.1_1</td>\n",
       "      <td>Aarau</td>\n",
       "      <td>NA</td>\n",
       "      <td>Densbüren</td>\n",
       "      <td>NA</td>\n",
       "      <td>NA</td>\n",
       "      <td>Commune</td>\n",
       "      <td>Municipality</td>\n",
       "      <td>NA</td>\n",
       "      <td>NA</td>\n",
       "      <td>MULTIPOLYGON (((8.06670 47.43720, 8.06190 47.4...</td>\n",
       "    </tr>\n",
       "    <tr>\n",
       "      <th>4</th>\n",
       "      <td>CHE.1.1.5_1</td>\n",
       "      <td>CHE</td>\n",
       "      <td>Switzerland</td>\n",
       "      <td>CHE.1_1</td>\n",
       "      <td>Aargau</td>\n",
       "      <td>NA</td>\n",
       "      <td>CHE.1.1_1</td>\n",
       "      <td>Aarau</td>\n",
       "      <td>NA</td>\n",
       "      <td>Erlinsbach</td>\n",
       "      <td>NA</td>\n",
       "      <td>NA</td>\n",
       "      <td>Commune</td>\n",
       "      <td>Municipality</td>\n",
       "      <td>NA</td>\n",
       "      <td>NA</td>\n",
       "      <td>MULTIPOLYGON (((8.03260 47.40540, 8.02840 47.4...</td>\n",
       "    </tr>\n",
       "  </tbody>\n",
       "</table>\n",
       "</div>"
      ],
      "text/plain": [
       "         GID_3 GID_0      COUNTRY    GID_1  NAME_1 NL_NAME_1      GID_2  \\\n",
       "0  CHE.1.1.1_1   CHE  Switzerland  CHE.1_1  Aargau        NA  CHE.1.1_1   \n",
       "1  CHE.1.1.2_1   CHE  Switzerland  CHE.1_1  Aargau        NA  CHE.1.1_1   \n",
       "2  CHE.1.1.3_1   CHE  Switzerland  CHE.1_1  Aargau        NA  CHE.1.1_1   \n",
       "3  CHE.1.1.4_1   CHE  Switzerland  CHE.1_1  Aargau        NA  CHE.1.1_1   \n",
       "4  CHE.1.1.5_1   CHE  Switzerland  CHE.1_1  Aargau        NA  CHE.1.1_1   \n",
       "\n",
       "  NAME_2 NL_NAME_2      NAME_3 VARNAME_3 NL_NAME_3   TYPE_3     ENGTYPE_3  \\\n",
       "0  Aarau        NA       Aarau        NA        NA  Commune  Municipality   \n",
       "1  Aarau        NA  Biberstein        NA        NA  Commune  Municipality   \n",
       "2  Aarau        NA       Buchs        NA        NA  Commune  Municipality   \n",
       "3  Aarau        NA   Densbüren        NA        NA  Commune  Municipality   \n",
       "4  Aarau        NA  Erlinsbach        NA        NA  Commune  Municipality   \n",
       "\n",
       "  CC_3 HASC_3                                           geometry  \n",
       "0   NA     NA  MULTIPOLYGON (((8.07110 47.40240, 8.06550 47.3...  \n",
       "1   NA     NA  MULTIPOLYGON (((8.06960 47.41470, 8.06720 47.4...  \n",
       "2   NA     NA  MULTIPOLYGON (((8.06320 47.39300, 8.06520 47.3...  \n",
       "3   NA     NA  MULTIPOLYGON (((8.06670 47.43720, 8.06190 47.4...  \n",
       "4   NA     NA  MULTIPOLYGON (((8.03260 47.40540, 8.02840 47.4...  "
      ]
     },
     "execution_count": 53,
     "metadata": {},
     "output_type": "execute_result"
    }
   ],
   "source": [
    "# Polygonmap als .json-File (WGS84)\n",
    "polys = gpd.read_file(\"/Users/erxhanganiu/ADSProjekt/AppliedDataScience/gadm41_CHE_3.json\")\n",
    "print(type(polys))\n",
    "polys.head(5)"
   ]
  },
  {
   "attachments": {},
   "cell_type": "markdown",
   "id": "8361f363",
   "metadata": {},
   "source": [
    "### Plot map"
   ]
  },
  {
   "cell_type": "code",
   "execution_count": 54,
   "id": "37bd956f",
   "metadata": {},
   "outputs": [
    {
     "name": "stdout",
     "output_type": "stream",
     "text": [
      "Index(['Address', 'Title', 'Description', 'Rooms', 'Living Space (sqm)',\n",
      "       'Price'],\n",
      "      dtype='object')\n"
     ]
    }
   ],
   "source": [
    "# Überprüfen der Spaltennamen\n",
    "print(df.columns)"
   ]
  },
  {
   "cell_type": "code",
   "execution_count": 56,
   "id": "73c25686",
   "metadata": {},
   "outputs": [
    {
     "ename": "KeyError",
     "evalue": "'lat'",
     "output_type": "error",
     "traceback": [
      "\u001b[0;31m---------------------------------------------------------------------------\u001b[0m",
      "\u001b[0;31mKeyError\u001b[0m                                  Traceback (most recent call last)",
      "File \u001b[0;32m~/anaconda3/envs/adsenv/lib/python3.11/site-packages/pandas/core/indexes/base.py:3802\u001b[0m, in \u001b[0;36mIndex.get_loc\u001b[0;34m(self, key)\u001b[0m\n\u001b[1;32m   3801\u001b[0m \u001b[38;5;28;01mtry\u001b[39;00m:\n\u001b[0;32m-> 3802\u001b[0m     \u001b[38;5;28;01mreturn\u001b[39;00m \u001b[38;5;28;43mself\u001b[39;49m\u001b[38;5;241;43m.\u001b[39;49m\u001b[43m_engine\u001b[49m\u001b[38;5;241;43m.\u001b[39;49m\u001b[43mget_loc\u001b[49m\u001b[43m(\u001b[49m\u001b[43mcasted_key\u001b[49m\u001b[43m)\u001b[49m\n\u001b[1;32m   3803\u001b[0m \u001b[38;5;28;01mexcept\u001b[39;00m \u001b[38;5;167;01mKeyError\u001b[39;00m \u001b[38;5;28;01mas\u001b[39;00m err:\n",
      "File \u001b[0;32mindex.pyx:153\u001b[0m, in \u001b[0;36mpandas._libs.index.IndexEngine.get_loc\u001b[0;34m()\u001b[0m\n",
      "File \u001b[0;32mindex.pyx:182\u001b[0m, in \u001b[0;36mpandas._libs.index.IndexEngine.get_loc\u001b[0;34m()\u001b[0m\n",
      "File \u001b[0;32mpandas/_libs/hashtable_class_helper.pxi:7081\u001b[0m, in \u001b[0;36mpandas._libs.hashtable.PyObjectHashTable.get_item\u001b[0;34m()\u001b[0m\n",
      "File \u001b[0;32mpandas/_libs/hashtable_class_helper.pxi:7089\u001b[0m, in \u001b[0;36mpandas._libs.hashtable.PyObjectHashTable.get_item\u001b[0;34m()\u001b[0m\n",
      "\u001b[0;31mKeyError\u001b[0m: 'lat'",
      "\nThe above exception was the direct cause of the following exception:\n",
      "\u001b[0;31mKeyError\u001b[0m                                  Traceback (most recent call last)",
      "Cell \u001b[0;32mIn[56], line 14\u001b[0m\n\u001b[1;32m     12\u001b[0m df_sub \u001b[38;5;241m=\u001b[39m df\u001b[38;5;241m.\u001b[39mdropna()\n\u001b[1;32m     13\u001b[0m \u001b[38;5;28;01mfor\u001b[39;00m i \u001b[38;5;129;01min\u001b[39;00m \u001b[38;5;28mrange\u001b[39m(\u001b[38;5;241m0\u001b[39m, \u001b[38;5;28mlen\u001b[39m(df_sub)):\n\u001b[0;32m---> 14\u001b[0m     folium\u001b[38;5;241m.\u001b[39mMarker(location\u001b[38;5;241m=\u001b[39m(\u001b[43mdf_sub\u001b[49m\u001b[38;5;241;43m.\u001b[39;49m\u001b[43miloc\u001b[49m\u001b[43m[\u001b[49m\u001b[43mi\u001b[49m\u001b[43m]\u001b[49m\u001b[43m[\u001b[49m\u001b[38;5;124;43m'\u001b[39;49m\u001b[38;5;124;43mlat\u001b[39;49m\u001b[38;5;124;43m'\u001b[39;49m\u001b[43m]\u001b[49m, \n\u001b[1;32m     15\u001b[0m                             df_sub\u001b[38;5;241m.\u001b[39miloc[i][\u001b[38;5;124m'\u001b[39m\u001b[38;5;124mlon\u001b[39m\u001b[38;5;124m'\u001b[39m]), \n\u001b[1;32m     16\u001b[0m                   popup\u001b[38;5;241m=\u001b[39mdf_sub\u001b[38;5;241m.\u001b[39miloc[i][\u001b[38;5;124m'\u001b[39m\u001b[38;5;124maddress_raw\u001b[39m\u001b[38;5;124m'\u001b[39m])\u001b[38;5;241m.\u001b[39madd_to(m)\n\u001b[1;32m     18\u001b[0m \u001b[38;5;66;03m# Layer control\u001b[39;00m\n\u001b[1;32m     19\u001b[0m folium\u001b[38;5;241m.\u001b[39mLayerControl()\u001b[38;5;241m.\u001b[39madd_to(m)\n",
      "File \u001b[0;32m~/anaconda3/envs/adsenv/lib/python3.11/site-packages/pandas/core/series.py:1111\u001b[0m, in \u001b[0;36mSeries.__getitem__\u001b[0;34m(self, key)\u001b[0m\n\u001b[1;32m   1108\u001b[0m     \u001b[38;5;28;01mreturn\u001b[39;00m \u001b[38;5;28mself\u001b[39m\u001b[38;5;241m.\u001b[39m_values[key]\n\u001b[1;32m   1110\u001b[0m \u001b[38;5;28;01melif\u001b[39;00m key_is_scalar:\n\u001b[0;32m-> 1111\u001b[0m     \u001b[38;5;28;01mreturn\u001b[39;00m \u001b[38;5;28;43mself\u001b[39;49m\u001b[38;5;241;43m.\u001b[39;49m\u001b[43m_get_value\u001b[49m\u001b[43m(\u001b[49m\u001b[43mkey\u001b[49m\u001b[43m)\u001b[49m\n\u001b[1;32m   1113\u001b[0m \u001b[38;5;66;03m# Convert generator to list before going through hashable part\u001b[39;00m\n\u001b[1;32m   1114\u001b[0m \u001b[38;5;66;03m# (We will iterate through the generator there to check for slices)\u001b[39;00m\n\u001b[1;32m   1115\u001b[0m \u001b[38;5;28;01mif\u001b[39;00m is_iterator(key):\n",
      "File \u001b[0;32m~/anaconda3/envs/adsenv/lib/python3.11/site-packages/pandas/core/series.py:1227\u001b[0m, in \u001b[0;36mSeries._get_value\u001b[0;34m(self, label, takeable)\u001b[0m\n\u001b[1;32m   1224\u001b[0m     \u001b[38;5;28;01mreturn\u001b[39;00m \u001b[38;5;28mself\u001b[39m\u001b[38;5;241m.\u001b[39m_values[label]\n\u001b[1;32m   1226\u001b[0m \u001b[38;5;66;03m# Similar to Index.get_value, but we do not fall back to positional\u001b[39;00m\n\u001b[0;32m-> 1227\u001b[0m loc \u001b[38;5;241m=\u001b[39m \u001b[38;5;28;43mself\u001b[39;49m\u001b[38;5;241;43m.\u001b[39;49m\u001b[43mindex\u001b[49m\u001b[38;5;241;43m.\u001b[39;49m\u001b[43mget_loc\u001b[49m\u001b[43m(\u001b[49m\u001b[43mlabel\u001b[49m\u001b[43m)\u001b[49m\n\u001b[1;32m   1229\u001b[0m \u001b[38;5;28;01mif\u001b[39;00m is_integer(loc):\n\u001b[1;32m   1230\u001b[0m     \u001b[38;5;28;01mreturn\u001b[39;00m \u001b[38;5;28mself\u001b[39m\u001b[38;5;241m.\u001b[39m_values[loc]\n",
      "File \u001b[0;32m~/anaconda3/envs/adsenv/lib/python3.11/site-packages/pandas/core/indexes/base.py:3809\u001b[0m, in \u001b[0;36mIndex.get_loc\u001b[0;34m(self, key)\u001b[0m\n\u001b[1;32m   3804\u001b[0m     \u001b[38;5;28;01mif\u001b[39;00m \u001b[38;5;28misinstance\u001b[39m(casted_key, \u001b[38;5;28mslice\u001b[39m) \u001b[38;5;129;01mor\u001b[39;00m (\n\u001b[1;32m   3805\u001b[0m         \u001b[38;5;28misinstance\u001b[39m(casted_key, abc\u001b[38;5;241m.\u001b[39mIterable)\n\u001b[1;32m   3806\u001b[0m         \u001b[38;5;129;01mand\u001b[39;00m \u001b[38;5;28many\u001b[39m(\u001b[38;5;28misinstance\u001b[39m(x, \u001b[38;5;28mslice\u001b[39m) \u001b[38;5;28;01mfor\u001b[39;00m x \u001b[38;5;129;01min\u001b[39;00m casted_key)\n\u001b[1;32m   3807\u001b[0m     ):\n\u001b[1;32m   3808\u001b[0m         \u001b[38;5;28;01mraise\u001b[39;00m InvalidIndexError(key)\n\u001b[0;32m-> 3809\u001b[0m     \u001b[38;5;28;01mraise\u001b[39;00m \u001b[38;5;167;01mKeyError\u001b[39;00m(key) \u001b[38;5;28;01mfrom\u001b[39;00m \u001b[38;5;21;01merr\u001b[39;00m\n\u001b[1;32m   3810\u001b[0m \u001b[38;5;28;01mexcept\u001b[39;00m \u001b[38;5;167;01mTypeError\u001b[39;00m:\n\u001b[1;32m   3811\u001b[0m     \u001b[38;5;66;03m# If we have a listlike key, _check_indexing_error will raise\u001b[39;00m\n\u001b[1;32m   3812\u001b[0m     \u001b[38;5;66;03m#  InvalidIndexError. Otherwise we fall through and re-raise\u001b[39;00m\n\u001b[1;32m   3813\u001b[0m     \u001b[38;5;66;03m#  the TypeError.\u001b[39;00m\n\u001b[1;32m   3814\u001b[0m     \u001b[38;5;28mself\u001b[39m\u001b[38;5;241m.\u001b[39m_check_indexing_error(key)\n",
      "\u001b[0;31mKeyError\u001b[0m: 'lat'"
     ]
    }
   ],
   "source": [
    "# Initialisierung der Map\n",
    "m = folium.Map(location=[47.44, 8.65], zoom_start=10)\n",
    "\n",
    "# Map settings\n",
    "folium.Choropleth(\n",
    "    geo_data=polys,\n",
    "    name='polys',\n",
    "    fill_color='greenyellow'\n",
    ").add_to(m)\n",
    "\n",
    "# Add lat/lon of addresses\n",
    "df_sub = df.dropna()\n",
    "for i in range(0, len(df_sub)):\n",
    "    folium.Marker(location=(df_sub.iloc[i]['lat'], \n",
    "                            df_sub.iloc[i]['lon']), \n",
    "                  popup=df_sub.iloc[i]['address_raw']).add_to(m)\n",
    "\n",
    "# Layer control\n",
    "folium.LayerControl().add_to(m)\n",
    "\n",
    "# Plot map\n",
    "m"
   ]
  },
  {
   "attachments": {},
   "cell_type": "markdown",
   "id": "66907e0a",
   "metadata": {},
   "source": [
    "### Intersect municipality polygon-map with lat and lon (point-in-polygon intersection)"
   ]
  },
  {
   "attachments": {},
   "cell_type": "markdown",
   "id": "841ea4b1",
   "metadata": {},
   "source": [
    "### Save data to file"
   ]
  },
  {
   "attachments": {},
   "cell_type": "markdown",
   "id": "f17743fe",
   "metadata": {},
   "source": [
    "### Jupyter notebook --footer info-- (please always provide this at the end of each notebook)"
   ]
  },
  {
   "cell_type": "code",
   "execution_count": null,
   "id": "2e30cf79",
   "metadata": {},
   "outputs": [],
   "source": [
    "import os\n",
    "import platform\n",
    "import socket\n",
    "from platform import python_version\n",
    "from datetime import datetime\n",
    "\n",
    "print('-----------------------------------')\n",
    "print(os.name.upper())\n",
    "print(platform.system(), '|', platform.release())\n",
    "print('Datetime:', datetime.now().strftime(\"%Y-%m-%d %H:%M:%S\"))\n",
    "print('Python Version:', python_version())\n",
    "print('-----------------------------------')"
   ]
  }
 ],
 "metadata": {
  "kernelspec": {
   "display_name": "Python 3 (ipykernel)",
   "language": "python",
   "name": "python3"
  },
  "language_info": {
   "codemirror_mode": {
    "name": "ipython",
    "version": 3
   },
   "file_extension": ".py",
   "mimetype": "text/x-python",
   "name": "python",
   "nbconvert_exporter": "python",
   "pygments_lexer": "ipython3",
   "version": "3.11.7"
  }
 },
 "nbformat": 4,
 "nbformat_minor": 5
}
