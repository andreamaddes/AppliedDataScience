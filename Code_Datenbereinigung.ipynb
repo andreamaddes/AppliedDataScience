{
 "cells": [
  {
   "cell_type": "code",
   "execution_count": null,
   "metadata": {},
   "outputs": [],
   "source": [
    "import pandas as pd\n",
    "import numpy as np\n",
    "\n",
    "# Load the data from the CSV file\n",
    "df = pd.read_csv('enriched_merged_useragent_immoscout24.csv', sep=';')\n",
    "\n",
    "def print_dataframe(df):\n",
    "    # Find the maximum length of data in each column\n",
    "    max_lengths = [max([len(str(s)) for s in df[col].values] + [len(col)]) for col in df.columns]\n",
    "    \n",
    "    # Create a horizontal line based on the lengths\n",
    "    h_line = '-' * (sum(max_lengths) + 3 * len(df.columns) - 1)\n",
    "    \n",
    "    # Print the header\n",
    "    header = \" | \".join([col.ljust(max_lengths[i]) for i, col in enumerate(df.columns)])\n",
    "    print(h_line)\n",
    "    print(header)\n",
    "    print(h_line)\n",
    "    \n",
    "    # Print each row of data\n",
    "    for index, row in df.iterrows():\n",
    "        # Each row entry is padded to align with the column width\n",
    "        row_str = \" | \".join([str(row[col]).ljust(max_lengths[i]) for i, col in enumerate(df.columns)])\n",
    "        print(row_str)\n",
    "    print(h_line)\n",
    "\n",
    "# Display the DataFrame\n",
    "print(df.dtypes)\n",
    "print_dataframe(df)\n",
    "\n",
    "\n"
   ]
  },
  {
   "cell_type": "code",
   "execution_count": null,
   "metadata": {},
   "outputs": [],
   "source": [
    "# Entfernen von \"CHF\", Kommas und dem Punkt am Ende sowie anderen nicht-numerischen Zeichen\n",
    "df['Price'] = df['Price'].replace({'CHF': '', ',': '', '.–': '', '_': ''}, regex=True)\n",
    "df['Rooms'] = df['Rooms'].replace({'rooms': ''}, regex=True)\n",
    "df['Living Space (sqm)'] = df['Living Space (sqm)'].replace({'m²': ''}, regex=True)\n",
    "\n",
    "# Convert the 'price' column to a numeric type\n",
    "df['Price'] = pd.to_numeric(df['Price'], errors='coerce')\n",
    "df['Rooms'] = pd.to_numeric(df['Rooms'], errors='coerce')\n",
    "df['Living Space (sqm)'] = pd.to_numeric(df['Living Space (sqm)'], errors='coerce')\n",
    "\n",
    "\n",
    "print(df.dtypes)\n"
   ]
  },
  {
   "cell_type": "code",
   "execution_count": null,
   "metadata": {},
   "outputs": [],
   "source": [
    "#Dublikate entfernen\n",
    "df = df.drop_duplicates()\n",
    "duplicate_count=df.duplicated().sum()\n",
    "print(df)\n",
    "print(f\"Anzahl der verbleibenden Duplikate: {duplicate_count}\")\n",
    "\n"
   ]
  },
  {
   "cell_type": "code",
   "execution_count": null,
   "metadata": {},
   "outputs": [],
   "source": [
    "#Fehlende Werte finden / Nan entfernen\n",
    "# Prüfen, welche Datensätze in der Spalte 'Preis' NaN-Werte enthalten\n",
    "nan_rooms = df['Rooms'].isna()\n",
    "print(df[nan_rooms])\n",
    "\n",
    "#Wie viele Nan werte gibt es insgesamt?\n",
    "print(df.isna().sum())\n",
    "\n",
    "#Alle Nan Werte aus den wichtigsten Prädikatoren entfernen\n",
    "df_clean = df.dropna(subset=['Price', 'Rooms', 'Living Space (sqm)'])\n",
    "\n",
    "# Überprüfen der neuen Datengröße und ob noch NaN-Werte in den genannten Spalten vorhanden sind.\n",
    "print(df.shape)\n",
    "print(df_clean.shape)\n",
    "print(df_clean.isna().sum())\n",
    "\n",
    "\n"
   ]
  },
  {
   "cell_type": "code",
   "execution_count": null,
   "metadata": {},
   "outputs": [],
   "source": [
    "df_clean['Price_per_SquareMeter'] = df_clean['Price'] / df_clean['Living Space (sqm)']\n",
    "\n",
    "# Überprüfen Sie die ersten paar Zeilen des DataFrames, um die neue Spalte zu sehen\n",
    "print_dataframe(df_clean)\n",
    "print(df_clean.dtypes)\n"
   ]
  },
  {
   "cell_type": "code",
   "execution_count": 7,
   "metadata": {},
   "outputs": [
    {
     "name": "stdout",
     "output_type": "stream",
     "text": [
      "0\n",
      "(13140, 9)\n"
     ]
    }
   ],
   "source": [
    "# Anwendung von isinf auf spezifische Spalten\n",
    "inf_mask = np.isinf(df_clean['Distance from nearest station (m)'])\n",
    "print(inf_mask.sum())\n",
    "df_clean = df_clean[~inf_mask]\n",
    "print(df_clean.shape)"
   ]
  },
  {
   "cell_type": "code",
   "execution_count": 10,
   "metadata": {},
   "outputs": [],
   "source": [
    "df_clean.to_csv('LAST_Final_cleaned_immodata.csv', sep=';', index=False)\n"
   ]
  },
  {
   "cell_type": "code",
   "execution_count": 10,
   "metadata": {},
   "outputs": [
    {
     "name": "stderr",
     "output_type": "stream",
     "text": [
      "C:\\Users\\schae\\AppData\\Local\\Temp\\ipykernel_10360\\1442309437.py:23: UserWarning: Boolean Series key will be reindexed to match DataFrame index.\n",
      "  df_double_filtered = df_filtered[(df_clean['Rooms'] >= lower_bound) & (df_clean['Rooms'] <= upper_bound)]\n"
     ]
    }
   ],
   "source": [
    "\n",
    "# Berechnen des IQR\n",
    "Q1 = df['Price'].quantile(0.25)\n",
    "Q3 = df['Price'].quantile(0.75)\n",
    "IQR = Q3 - Q1\n",
    "\n",
    "# Definition der Grenzen für Ausreißer\n",
    "lower_bound = Q1 - 1.5 * IQR\n",
    "upper_bound = Q3 + 1.5 * IQR\n",
    "\n",
    "#Ausreisser entfernen\n",
    "df_filtered = df_clean[(df_clean['Price'] >= lower_bound) & (df_clean['Price'] <= upper_bound)]\n",
    "\n",
    "# Berechnen des IQR\n",
    "Q1 = df['Rooms'].quantile(0.25)\n",
    "Q3 = df['Rooms'].quantile(0.75)\n",
    "IQR = Q3 - Q1\n",
    "\n",
    "# Definition der Grenzen für Ausreißer\n",
    "lower_bound = Q1 - 1.5 * IQR\n",
    "upper_bound = Q3 + 1.5 * IQR\n",
    "\n",
    "#Ausreisser entfernen\n",
    "df_double_filtered = df_filtered[(df_clean['Rooms'] >= lower_bound) & (df_clean['Rooms'] <= upper_bound)]\n",
    "df_double_filtered.to_csv('Double_Final_Filtered_immodata.csv', sep=';', index=False)\n",
    "\n",
    "\n"
   ]
  }
 ],
 "metadata": {
  "kernelspec": {
   "display_name": "adsenv",
   "language": "python",
   "name": "python3"
  },
  "language_info": {
   "codemirror_mode": {
    "name": "ipython",
    "version": 3
   },
   "file_extension": ".py",
   "mimetype": "text/x-python",
   "name": "python",
   "nbconvert_exporter": "python",
   "pygments_lexer": "ipython3",
   "version": "3.11.7"
  }
 },
 "nbformat": 4,
 "nbformat_minor": 2
}
