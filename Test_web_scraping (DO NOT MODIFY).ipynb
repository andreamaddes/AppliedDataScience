{
 "cells": [
  {
   "cell_type": "code",
   "execution_count": 1,
   "metadata": {},
   "outputs": [
    {
     "name": "stdout",
     "output_type": "stream",
     "text": [
      "Scraping complete.\n"
     ]
    }
   ],
   "source": [
    "from selenium import webdriver\n",
    "from selenium.webdriver.chrome.service import Service\n",
    "from webdriver_manager.chrome import ChromeDriverManager\n",
    "import pandas as pd\n",
    "from bs4 import BeautifulSoup\n",
    "import time\n",
    "\n",
    "def scrape_real_estate_prices(url):\n",
    "    # Setup ChromeDriver\n",
    "    service = Service(ChromeDriverManager().install())\n",
    "    options = webdriver.ChromeOptions()\n",
    "    options.add_argument('--headless')  # Run Chrome in headless mode (no GUI)\n",
    "    \n",
    "    driver = webdriver.Chrome(service=service, options=options)\n",
    "\n",
    "    # Navigate to the webpage\n",
    "    driver.get(url)\n",
    "    time.sleep(5)  # Wait for the page to load fully\n",
    "\n",
    "    # Get the full content of the webpage\n",
    "    source = driver.page_source\n",
    "    soup = BeautifulSoup(source, 'html.parser')\n",
    "\n",
    "    # Initialize lists to store data\n",
    "    prices = []\n",
    "    rooms = []\n",
    "\n",
    "    # Extract prices and rooms using CSS selectors\n",
    "    listings = soup.select('div.HgListingCard_card_QGuXn')\n",
    "    for listing in listings:\n",
    "        # Extract price\n",
    "        price_element = listing.select_one('span.HgListingCard_price_JoPAs')\n",
    "        if price_element:\n",
    "            prices.append(price_element.text.strip())\n",
    "        else:\n",
    "            prices.append('Not available')\n",
    "\n",
    "        # Extract rooms\n",
    "        room_element = listing.select_one('span:nth-child(1) > strong')\n",
    "        if room_element:\n",
    "            rooms.append(room_element.text.strip())\n",
    "        else:\n",
    "            rooms.append('Not available')\n",
    "\n",
    "    # Close the driver after scraping\n",
    "    driver.quit()\n",
    "\n",
    "    # Create a DataFrame to store the collected data\n",
    "    df = pd.DataFrame({\n",
    "        'Price': prices,\n",
    "        'Rooms': rooms\n",
    "    })\n",
    "\n",
    "    return df\n",
    "\n",
    "# Example usage\n",
    "url = 'https://www.homegate.ch/buy/real-estate/canton-zurich/matching-list'\n",
    "real_estate_data = scrape_real_estate_prices(url)\n",
    "real_estate_data.to_csv('real_estate_prices_zurich.csv', index=False)\n",
    "print(\"Scraping complete.\")\n"
   ]
  }
 ],
 "metadata": {
  "kernelspec": {
   "display_name": "adsenv",
   "language": "python",
   "name": "python3"
  },
  "language_info": {
   "codemirror_mode": {
    "name": "ipython",
    "version": 3
   },
   "file_extension": ".py",
   "mimetype": "text/x-python",
   "name": "python",
   "nbconvert_exporter": "python",
   "pygments_lexer": "ipython3",
   "version": "3.11.8"
  }
 },
 "nbformat": 4,
 "nbformat_minor": 2
}
